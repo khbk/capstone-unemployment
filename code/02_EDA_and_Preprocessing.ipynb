{
 "cells": [
  {
   "cell_type": "code",
   "execution_count": 2,
   "id": "c4ca4826",
   "metadata": {},
   "outputs": [],
   "source": [
    "import pandas as pd\n",
    "import numpy as np\n",
    "from sklearn.datasets import make_classification, make_regression\n",
    "from sklearn.preprocessing import StandardScaler\n",
    "from sklearn.model_selection import train_test_split\n",
    "import matplotlib.pyplot as plt\n",
    "\n",
    "from tensorflow.keras.models import Sequential\n",
    "from tensorflow.keras.layers import Dense, Dropout, Flatten, Conv2D, MaxPooling2D\n",
    "from tensorflow.keras import utils\n",
    "from tensorflow.keras.utils import to_categorical"
   ]
  },
  {
   "cell_type": "code",
   "execution_count": 3,
   "id": "b663f115",
   "metadata": {},
   "outputs": [],
   "source": [
    "df = pd.read_csv('../data/final_work_data.csv')"
   ]
  },
  {
   "cell_type": "code",
   "execution_count": 4,
   "id": "de3f12ba",
   "metadata": {},
   "outputs": [
    {
     "data": {
      "text/html": [
       "<div>\n",
       "<style scoped>\n",
       "    .dataframe tbody tr th:only-of-type {\n",
       "        vertical-align: middle;\n",
       "    }\n",
       "\n",
       "    .dataframe tbody tr th {\n",
       "        vertical-align: top;\n",
       "    }\n",
       "\n",
       "    .dataframe thead th {\n",
       "        text-align: right;\n",
       "    }\n",
       "</style>\n",
       "<table border=\"1\" class=\"dataframe\">\n",
       "  <thead>\n",
       "    <tr style=\"text-align: right;\">\n",
       "      <th></th>\n",
       "      <th>state</th>\n",
       "      <th>county_name</th>\n",
       "      <th>unemployment_rate_2010</th>\n",
       "      <th>population_total_2010</th>\n",
       "      <th>urban_population_prc</th>\n",
       "      <th>rural_population_prc</th>\n",
       "      <th>crime_per_capita</th>\n",
       "      <th>per_capita_sme_num</th>\n",
       "      <th>per_capita_large_num</th>\n",
       "      <th>avg_ann_pay_per_emp_sme</th>\n",
       "      <th>...</th>\n",
       "      <th>popul_college_grad_prc</th>\n",
       "      <th>popul_single_paren_prc</th>\n",
       "      <th>liquor_stores_per10k</th>\n",
       "      <th>police_per_1000</th>\n",
       "      <th>WhiteNonHispanicPct2010</th>\n",
       "      <th>BlackNonHispanicPct2010</th>\n",
       "      <th>AsianNonHispanicPct2010</th>\n",
       "      <th>NativeAmericanNonHispanicPct2010</th>\n",
       "      <th>HispanicPct2010</th>\n",
       "      <th>MultipleRacePct2010</th>\n",
       "    </tr>\n",
       "  </thead>\n",
       "  <tbody>\n",
       "    <tr>\n",
       "      <th>0</th>\n",
       "      <td>AL</td>\n",
       "      <td>Autauga</td>\n",
       "      <td>8.8</td>\n",
       "      <td>54571.0</td>\n",
       "      <td>0.579978</td>\n",
       "      <td>0.420022</td>\n",
       "      <td>0.002620</td>\n",
       "      <td>0.012259</td>\n",
       "      <td>0.002565</td>\n",
       "      <td>22667.03037</td>\n",
       "      <td>...</td>\n",
       "      <td>21.0</td>\n",
       "      <td>9.0</td>\n",
       "      <td>0.4</td>\n",
       "      <td>1.172784</td>\n",
       "      <td>77.25</td>\n",
       "      <td>17.58</td>\n",
       "      <td>0.86</td>\n",
       "      <td>0.40</td>\n",
       "      <td>2.40</td>\n",
       "      <td>1.59</td>\n",
       "    </tr>\n",
       "    <tr>\n",
       "      <th>1</th>\n",
       "      <td>AL</td>\n",
       "      <td>Baldwin</td>\n",
       "      <td>9.9</td>\n",
       "      <td>182265.0</td>\n",
       "      <td>0.577209</td>\n",
       "      <td>0.422791</td>\n",
       "      <td>0.002112</td>\n",
       "      <td>0.020108</td>\n",
       "      <td>0.002019</td>\n",
       "      <td>28664.84962</td>\n",
       "      <td>...</td>\n",
       "      <td>26.0</td>\n",
       "      <td>9.0</td>\n",
       "      <td>0.8</td>\n",
       "      <td>1.486846</td>\n",
       "      <td>83.50</td>\n",
       "      <td>9.31</td>\n",
       "      <td>0.74</td>\n",
       "      <td>0.63</td>\n",
       "      <td>4.38</td>\n",
       "      <td>1.49</td>\n",
       "    </tr>\n",
       "    <tr>\n",
       "      <th>2</th>\n",
       "      <td>AL</td>\n",
       "      <td>Bibb</td>\n",
       "      <td>11.2</td>\n",
       "      <td>22915.0</td>\n",
       "      <td>0.316474</td>\n",
       "      <td>0.683526</td>\n",
       "      <td>0.002575</td>\n",
       "      <td>0.011172</td>\n",
       "      <td>0.000916</td>\n",
       "      <td>27318.29733</td>\n",
       "      <td>...</td>\n",
       "      <td>11.0</td>\n",
       "      <td>5.0</td>\n",
       "      <td>0.5</td>\n",
       "      <td>0.523674</td>\n",
       "      <td>75.02</td>\n",
       "      <td>21.92</td>\n",
       "      <td>0.10</td>\n",
       "      <td>0.28</td>\n",
       "      <td>1.77</td>\n",
       "      <td>0.89</td>\n",
       "    </tr>\n",
       "    <tr>\n",
       "      <th>3</th>\n",
       "      <td>AL</td>\n",
       "      <td>Blount</td>\n",
       "      <td>9.7</td>\n",
       "      <td>57322.0</td>\n",
       "      <td>0.100485</td>\n",
       "      <td>0.899515</td>\n",
       "      <td>0.000419</td>\n",
       "      <td>0.010485</td>\n",
       "      <td>0.001082</td>\n",
       "      <td>26050.59382</td>\n",
       "      <td>...</td>\n",
       "      <td>12.0</td>\n",
       "      <td>7.0</td>\n",
       "      <td>0.0</td>\n",
       "      <td>0.854820</td>\n",
       "      <td>88.89</td>\n",
       "      <td>1.26</td>\n",
       "      <td>0.20</td>\n",
       "      <td>0.50</td>\n",
       "      <td>8.07</td>\n",
       "      <td>1.19</td>\n",
       "    </tr>\n",
       "    <tr>\n",
       "      <th>4</th>\n",
       "      <td>AL</td>\n",
       "      <td>Butler</td>\n",
       "      <td>13.4</td>\n",
       "      <td>20947.0</td>\n",
       "      <td>0.287678</td>\n",
       "      <td>0.712322</td>\n",
       "      <td>0.003151</td>\n",
       "      <td>0.015563</td>\n",
       "      <td>0.003580</td>\n",
       "      <td>27202.56233</td>\n",
       "      <td>...</td>\n",
       "      <td>12.0</td>\n",
       "      <td>10.0</td>\n",
       "      <td>0.5</td>\n",
       "      <td>0.572874</td>\n",
       "      <td>54.06</td>\n",
       "      <td>43.19</td>\n",
       "      <td>0.83</td>\n",
       "      <td>0.28</td>\n",
       "      <td>0.91</td>\n",
       "      <td>0.77</td>\n",
       "    </tr>\n",
       "  </tbody>\n",
       "</table>\n",
       "<p>5 rows × 28 columns</p>\n",
       "</div>"
      ],
      "text/plain": [
       "  state county_name  unemployment_rate_2010  population_total_2010  \\\n",
       "0    AL     Autauga                     8.8                54571.0   \n",
       "1    AL     Baldwin                     9.9               182265.0   \n",
       "2    AL        Bibb                    11.2                22915.0   \n",
       "3    AL      Blount                     9.7                57322.0   \n",
       "4    AL      Butler                    13.4                20947.0   \n",
       "\n",
       "   urban_population_prc  rural_population_prc  crime_per_capita  \\\n",
       "0              0.579978              0.420022          0.002620   \n",
       "1              0.577209              0.422791          0.002112   \n",
       "2              0.316474              0.683526          0.002575   \n",
       "3              0.100485              0.899515          0.000419   \n",
       "4              0.287678              0.712322          0.003151   \n",
       "\n",
       "   per_capita_sme_num  per_capita_large_num  avg_ann_pay_per_emp_sme  ...  \\\n",
       "0            0.012259              0.002565              22667.03037  ...   \n",
       "1            0.020108              0.002019              28664.84962  ...   \n",
       "2            0.011172              0.000916              27318.29733  ...   \n",
       "3            0.010485              0.001082              26050.59382  ...   \n",
       "4            0.015563              0.003580              27202.56233  ...   \n",
       "\n",
       "   popul_college_grad_prc  popul_single_paren_prc  liquor_stores_per10k  \\\n",
       "0                    21.0                     9.0                   0.4   \n",
       "1                    26.0                     9.0                   0.8   \n",
       "2                    11.0                     5.0                   0.5   \n",
       "3                    12.0                     7.0                   0.0   \n",
       "4                    12.0                    10.0                   0.5   \n",
       "\n",
       "   police_per_1000  WhiteNonHispanicPct2010  BlackNonHispanicPct2010  \\\n",
       "0         1.172784                    77.25                    17.58   \n",
       "1         1.486846                    83.50                     9.31   \n",
       "2         0.523674                    75.02                    21.92   \n",
       "3         0.854820                    88.89                     1.26   \n",
       "4         0.572874                    54.06                    43.19   \n",
       "\n",
       "   AsianNonHispanicPct2010  NativeAmericanNonHispanicPct2010  HispanicPct2010  \\\n",
       "0                     0.86                              0.40             2.40   \n",
       "1                     0.74                              0.63             4.38   \n",
       "2                     0.10                              0.28             1.77   \n",
       "3                     0.20                              0.50             8.07   \n",
       "4                     0.83                              0.28             0.91   \n",
       "\n",
       "   MultipleRacePct2010  \n",
       "0                 1.59  \n",
       "1                 1.49  \n",
       "2                 0.89  \n",
       "3                 1.19  \n",
       "4                 0.77  \n",
       "\n",
       "[5 rows x 28 columns]"
      ]
     },
     "execution_count": 4,
     "metadata": {},
     "output_type": "execute_result"
    }
   ],
   "source": [
    "df.head()"
   ]
  },
  {
   "cell_type": "code",
   "execution_count": 5,
   "id": "df3b9f03",
   "metadata": {},
   "outputs": [],
   "source": [
    "cols = list(df.groupby('state').mean('unemployment_rate_2010').sort_values('unemployment_rate_2010', ascending=True).index)"
   ]
  },
  {
   "cell_type": "code",
   "execution_count": 6,
   "id": "8f273af6",
   "metadata": {},
   "outputs": [],
   "source": [
    "wid = df.groupby('state').mean('unemployment_rate_2010').sort_values('unemployment_rate_2010', ascending=True)['unemployment_rate_2010']"
   ]
  },
  {
   "cell_type": "code",
   "execution_count": 7,
   "id": "af6b70f2",
   "metadata": {},
   "outputs": [
    {
     "data": {
      "text/plain": [
       "<BarContainer object of 43 artists>"
      ]
     },
     "execution_count": 7,
     "metadata": {},
     "output_type": "execute_result"
    },
    {
     "data": {
      "image/png": "[encoded data removed]",
      "text/plain": [
       "<Figure size 720x720 with 1 Axes>"
      ]
     },
     "metadata": {
      "needs_background": "light"
     },
     "output_type": "display_data"
    }
   ],
   "source": [
    "plt.figure(figsize=(10, 10))\n",
    "plt.barh(cols, width=wid)"
   ]
  },
  {
   "cell_type": "code",
   "execution_count": 8,
   "id": "77f6fce8",
   "metadata": {},
   "outputs": [
    {
     "ename": "NameError",
     "evalue": "name 'sns' is not defined",
     "output_type": "error",
     "traceback": [
      "\u001b[0;31m---------------------------------------------------------------------------\u001b[0m",
      "\u001b[0;31mNameError\u001b[0m                                 Traceback (most recent call last)",
      "\u001b[0;32m<ipython-input-8-fe7c8e5b0c0b>\u001b[0m in \u001b[0;36m<module>\u001b[0;34m\u001b[0m\n\u001b[1;32m      1\u001b[0m \u001b[0mplt\u001b[0m\u001b[0;34m.\u001b[0m\u001b[0mfigure\u001b[0m\u001b[0;34m(\u001b[0m\u001b[0mfigsize\u001b[0m\u001b[0;34m=\u001b[0m\u001b[0;34m(\u001b[0m\u001b[0;36m10\u001b[0m\u001b[0;34m,\u001b[0m \u001b[0;36m10\u001b[0m\u001b[0;34m)\u001b[0m\u001b[0;34m)\u001b[0m\u001b[0;34m\u001b[0m\u001b[0;34m\u001b[0m\u001b[0m\n\u001b[0;32m----> 2\u001b[0;31m \u001b[0msns\u001b[0m\u001b[0;34m.\u001b[0m\u001b[0mheatmap\u001b[0m\u001b[0;34m(\u001b[0m\u001b[0mdf\u001b[0m\u001b[0;34m.\u001b[0m\u001b[0mcorr\u001b[0m\u001b[0;34m(\u001b[0m\u001b[0;34m)\u001b[0m\u001b[0;34m[\u001b[0m\u001b[0;34m[\u001b[0m\u001b[0;34m'unemployment_rate_2010'\u001b[0m\u001b[0;34m]\u001b[0m\u001b[0;34m]\u001b[0m\u001b[0;34m,\u001b[0m \u001b[0mcmap\u001b[0m \u001b[0;34m=\u001b[0m \u001b[0;34m'coolwarm'\u001b[0m\u001b[0;34m,\u001b[0m \u001b[0mvmin\u001b[0m\u001b[0;34m=\u001b[0m\u001b[0;34m-\u001b[0m\u001b[0;36m1\u001b[0m\u001b[0;34m,\u001b[0m \u001b[0mvmax\u001b[0m\u001b[0;34m=\u001b[0m\u001b[0;36m1\u001b[0m\u001b[0;34m,\u001b[0m \u001b[0mannot\u001b[0m\u001b[0;34m=\u001b[0m\u001b[0;32mTrue\u001b[0m\u001b[0;34m)\u001b[0m\u001b[0;34m\u001b[0m\u001b[0;34m\u001b[0m\u001b[0m\n\u001b[0m",
      "\u001b[0;31mNameError\u001b[0m: name 'sns' is not defined"
     ]
    },
    {
     "data": {
      "text/plain": [
       "<Figure size 720x720 with 0 Axes>"
      ]
     },
     "metadata": {},
     "output_type": "display_data"
    }
   ],
   "source": [
    "plt.figure(figsize=(10, 10))\n",
    "sns.heatmap(df.corr()[['unemployment_rate_2010']], cmap = 'coolwarm', vmin=-1, vmax=1, annot=True)"
   ]
  },
  {
   "cell_type": "code",
   "execution_count": 13,
   "id": "a5ccd954",
   "metadata": {},
   "outputs": [
    {
     "data": {
      "text/html": [
       "<div>\n",
       "<style scoped>\n",
       "    .dataframe tbody tr th:only-of-type {\n",
       "        vertical-align: middle;\n",
       "    }\n",
       "\n",
       "    .dataframe tbody tr th {\n",
       "        vertical-align: top;\n",
       "    }\n",
       "\n",
       "    .dataframe thead th {\n",
       "        text-align: right;\n",
       "    }\n",
       "</style>\n",
       "<table border=\"1\" class=\"dataframe\">\n",
       "  <thead>\n",
       "    <tr style=\"text-align: right;\">\n",
       "      <th></th>\n",
       "      <th>state</th>\n",
       "      <th>county_name</th>\n",
       "      <th>unemployment_rate_2010</th>\n",
       "      <th>population_total_2010</th>\n",
       "      <th>urban_population_prc</th>\n",
       "      <th>rural_population_prc</th>\n",
       "      <th>crime_per_capita</th>\n",
       "      <th>per_capita_sme_num</th>\n",
       "      <th>per_capita_large_num</th>\n",
       "      <th>avg_ann_pay_per_emp_sme</th>\n",
       "      <th>...</th>\n",
       "      <th>popul_college_grad_prc</th>\n",
       "      <th>popul_single_paren_prc</th>\n",
       "      <th>liquor_stores_per10k</th>\n",
       "      <th>police_per_1000</th>\n",
       "      <th>WhiteNonHispanicPct2010</th>\n",
       "      <th>BlackNonHispanicPct2010</th>\n",
       "      <th>AsianNonHispanicPct2010</th>\n",
       "      <th>NativeAmericanNonHispanicPct2010</th>\n",
       "      <th>HispanicPct2010</th>\n",
       "      <th>MultipleRacePct2010</th>\n",
       "    </tr>\n",
       "  </thead>\n",
       "  <tbody>\n",
       "    <tr>\n",
       "      <th>0</th>\n",
       "      <td>AL</td>\n",
       "      <td>Autauga</td>\n",
       "      <td>8.8</td>\n",
       "      <td>54571.0</td>\n",
       "      <td>0.579978</td>\n",
       "      <td>0.420022</td>\n",
       "      <td>0.00262</td>\n",
       "      <td>0.012259</td>\n",
       "      <td>0.002565</td>\n",
       "      <td>22667.03037</td>\n",
       "      <td>...</td>\n",
       "      <td>21.0</td>\n",
       "      <td>9.0</td>\n",
       "      <td>0.4</td>\n",
       "      <td>1.172784</td>\n",
       "      <td>77.25</td>\n",
       "      <td>17.58</td>\n",
       "      <td>0.86</td>\n",
       "      <td>0.4</td>\n",
       "      <td>2.4</td>\n",
       "      <td>1.59</td>\n",
       "    </tr>\n",
       "  </tbody>\n",
       "</table>\n",
       "<p>1 rows × 28 columns</p>\n",
       "</div>"
      ],
      "text/plain": [
       "  state county_name  unemployment_rate_2010  population_total_2010  \\\n",
       "0    AL     Autauga                     8.8                54571.0   \n",
       "\n",
       "   urban_population_prc  rural_population_prc  crime_per_capita  \\\n",
       "0              0.579978              0.420022           0.00262   \n",
       "\n",
       "   per_capita_sme_num  per_capita_large_num  avg_ann_pay_per_emp_sme  ...  \\\n",
       "0            0.012259              0.002565              22667.03037  ...   \n",
       "\n",
       "   popul_college_grad_prc  popul_single_paren_prc  liquor_stores_per10k  \\\n",
       "0                    21.0                     9.0                   0.4   \n",
       "\n",
       "   police_per_1000  WhiteNonHispanicPct2010  BlackNonHispanicPct2010  \\\n",
       "0         1.172784                    77.25                    17.58   \n",
       "\n",
       "   AsianNonHispanicPct2010  NativeAmericanNonHispanicPct2010  HispanicPct2010  \\\n",
       "0                     0.86                               0.4              2.4   \n",
       "\n",
       "   MultipleRacePct2010  \n",
       "0                 1.59  \n",
       "\n",
       "[1 rows x 28 columns]"
      ]
     },
     "execution_count": 13,
     "metadata": {},
     "output_type": "execute_result"
    }
   ],
   "source": [
    "df.head(1)"
   ]
  },
  {
   "cell_type": "code",
   "execution_count": 11,
   "id": "abc8a75a",
   "metadata": {},
   "outputs": [
    {
     "ename": "KeyError",
     "evalue": "\"[('state', 'county_name', 'unemployment_rate_2010')] not found in axis\"",
     "output_type": "error",
     "traceback": [
      "\u001b[0;31m---------------------------------------------------------------------------\u001b[0m",
      "\u001b[0;31mKeyError\u001b[0m                                  Traceback (most recent call last)",
      "\u001b[0;32m<ipython-input-11-105f2aacf4c9>\u001b[0m in \u001b[0;36m<module>\u001b[0;34m\u001b[0m\n\u001b[0;32m----> 1\u001b[0;31m \u001b[0mX\u001b[0m \u001b[0;34m=\u001b[0m \u001b[0mdf\u001b[0m\u001b[0;34m.\u001b[0m\u001b[0mdrop\u001b[0m\u001b[0;34m(\u001b[0m\u001b[0mcolumns\u001b[0m\u001b[0;34m=\u001b[0m\u001b[0;34m(\u001b[0m\u001b[0;34m'state'\u001b[0m\u001b[0;34m,\u001b[0m \u001b[0;34m'county_name'\u001b[0m\u001b[0;34m,\u001b[0m \u001b[0;34m'unemployment_rate_2010'\u001b[0m\u001b[0;34m)\u001b[0m\u001b[0;34m)\u001b[0m\u001b[0;34m\u001b[0m\u001b[0;34m\u001b[0m\u001b[0m\n\u001b[0m\u001b[1;32m      2\u001b[0m \u001b[0my\u001b[0m \u001b[0;34m=\u001b[0m \u001b[0mdf\u001b[0m\u001b[0;34m[\u001b[0m\u001b[0;34m[\u001b[0m\u001b[0;34m'unemployment_rate_2010'\u001b[0m\u001b[0;34m]\u001b[0m\u001b[0;34m]\u001b[0m\u001b[0;34m\u001b[0m\u001b[0;34m\u001b[0m\u001b[0m\n",
      "\u001b[0;32m~/opt/anaconda3/lib/python3.8/site-packages/pandas/core/frame.py\u001b[0m in \u001b[0;36mdrop\u001b[0;34m(self, labels, axis, index, columns, level, inplace, errors)\u001b[0m\n\u001b[1;32m   4306\u001b[0m                 \u001b[0mweight\u001b[0m  \u001b[0;36m1.0\u001b[0m     \u001b[0;36m0.8\u001b[0m\u001b[0;34m\u001b[0m\u001b[0;34m\u001b[0m\u001b[0m\n\u001b[1;32m   4307\u001b[0m         \"\"\"\n\u001b[0;32m-> 4308\u001b[0;31m         return super().drop(\n\u001b[0m\u001b[1;32m   4309\u001b[0m             \u001b[0mlabels\u001b[0m\u001b[0;34m=\u001b[0m\u001b[0mlabels\u001b[0m\u001b[0;34m,\u001b[0m\u001b[0;34m\u001b[0m\u001b[0;34m\u001b[0m\u001b[0m\n\u001b[1;32m   4310\u001b[0m             \u001b[0maxis\u001b[0m\u001b[0;34m=\u001b[0m\u001b[0maxis\u001b[0m\u001b[0;34m,\u001b[0m\u001b[0;34m\u001b[0m\u001b[0;34m\u001b[0m\u001b[0m\n",
      "\u001b[0;32m~/opt/anaconda3/lib/python3.8/site-packages/pandas/core/generic.py\u001b[0m in \u001b[0;36mdrop\u001b[0;34m(self, labels, axis, index, columns, level, inplace, errors)\u001b[0m\n\u001b[1;32m   4151\u001b[0m         \u001b[0;32mfor\u001b[0m \u001b[0maxis\u001b[0m\u001b[0;34m,\u001b[0m \u001b[0mlabels\u001b[0m \u001b[0;32min\u001b[0m \u001b[0maxes\u001b[0m\u001b[0;34m.\u001b[0m\u001b[0mitems\u001b[0m\u001b[0;34m(\u001b[0m\u001b[0;34m)\u001b[0m\u001b[0;34m:\u001b[0m\u001b[0;34m\u001b[0m\u001b[0;34m\u001b[0m\u001b[0m\n\u001b[1;32m   4152\u001b[0m             \u001b[0;32mif\u001b[0m \u001b[0mlabels\u001b[0m \u001b[0;32mis\u001b[0m \u001b[0;32mnot\u001b[0m \u001b[0;32mNone\u001b[0m\u001b[0;34m:\u001b[0m\u001b[0;34m\u001b[0m\u001b[0;34m\u001b[0m\u001b[0m\n\u001b[0;32m-> 4153\u001b[0;31m                 \u001b[0mobj\u001b[0m \u001b[0;34m=\u001b[0m \u001b[0mobj\u001b[0m\u001b[0;34m.\u001b[0m\u001b[0m_drop_axis\u001b[0m\u001b[0;34m(\u001b[0m\u001b[0mlabels\u001b[0m\u001b[0;34m,\u001b[0m \u001b[0maxis\u001b[0m\u001b[0;34m,\u001b[0m \u001b[0mlevel\u001b[0m\u001b[0;34m=\u001b[0m\u001b[0mlevel\u001b[0m\u001b[0;34m,\u001b[0m \u001b[0merrors\u001b[0m\u001b[0;34m=\u001b[0m\u001b[0merrors\u001b[0m\u001b[0;34m)\u001b[0m\u001b[0;34m\u001b[0m\u001b[0;34m\u001b[0m\u001b[0m\n\u001b[0m\u001b[1;32m   4154\u001b[0m \u001b[0;34m\u001b[0m\u001b[0m\n\u001b[1;32m   4155\u001b[0m         \u001b[0;32mif\u001b[0m \u001b[0minplace\u001b[0m\u001b[0;34m:\u001b[0m\u001b[0;34m\u001b[0m\u001b[0;34m\u001b[0m\u001b[0m\n",
      "\u001b[0;32m~/opt/anaconda3/lib/python3.8/site-packages/pandas/core/generic.py\u001b[0m in \u001b[0;36m_drop_axis\u001b[0;34m(self, labels, axis, level, errors)\u001b[0m\n\u001b[1;32m   4186\u001b[0m                 \u001b[0mnew_axis\u001b[0m \u001b[0;34m=\u001b[0m \u001b[0maxis\u001b[0m\u001b[0;34m.\u001b[0m\u001b[0mdrop\u001b[0m\u001b[0;34m(\u001b[0m\u001b[0mlabels\u001b[0m\u001b[0;34m,\u001b[0m \u001b[0mlevel\u001b[0m\u001b[0;34m=\u001b[0m\u001b[0mlevel\u001b[0m\u001b[0;34m,\u001b[0m \u001b[0merrors\u001b[0m\u001b[0;34m=\u001b[0m\u001b[0merrors\u001b[0m\u001b[0;34m)\u001b[0m\u001b[0;34m\u001b[0m\u001b[0;34m\u001b[0m\u001b[0m\n\u001b[1;32m   4187\u001b[0m             \u001b[0;32melse\u001b[0m\u001b[0;34m:\u001b[0m\u001b[0;34m\u001b[0m\u001b[0;34m\u001b[0m\u001b[0m\n\u001b[0;32m-> 4188\u001b[0;31m                 \u001b[0mnew_axis\u001b[0m \u001b[0;34m=\u001b[0m \u001b[0maxis\u001b[0m\u001b[0;34m.\u001b[0m\u001b[0mdrop\u001b[0m\u001b[0;34m(\u001b[0m\u001b[0mlabels\u001b[0m\u001b[0;34m,\u001b[0m \u001b[0merrors\u001b[0m\u001b[0;34m=\u001b[0m\u001b[0merrors\u001b[0m\u001b[0;34m)\u001b[0m\u001b[0;34m\u001b[0m\u001b[0;34m\u001b[0m\u001b[0m\n\u001b[0m\u001b[1;32m   4189\u001b[0m             \u001b[0mresult\u001b[0m \u001b[0;34m=\u001b[0m \u001b[0mself\u001b[0m\u001b[0;34m.\u001b[0m\u001b[0mreindex\u001b[0m\u001b[0;34m(\u001b[0m\u001b[0;34m**\u001b[0m\u001b[0;34m{\u001b[0m\u001b[0maxis_name\u001b[0m\u001b[0;34m:\u001b[0m \u001b[0mnew_axis\u001b[0m\u001b[0;34m}\u001b[0m\u001b[0;34m)\u001b[0m\u001b[0;34m\u001b[0m\u001b[0;34m\u001b[0m\u001b[0m\n\u001b[1;32m   4190\u001b[0m \u001b[0;34m\u001b[0m\u001b[0m\n",
      "\u001b[0;32m~/opt/anaconda3/lib/python3.8/site-packages/pandas/core/indexes/base.py\u001b[0m in \u001b[0;36mdrop\u001b[0;34m(self, labels, errors)\u001b[0m\n\u001b[1;32m   5589\u001b[0m         \u001b[0;32mif\u001b[0m \u001b[0mmask\u001b[0m\u001b[0;34m.\u001b[0m\u001b[0many\u001b[0m\u001b[0;34m(\u001b[0m\u001b[0;34m)\u001b[0m\u001b[0;34m:\u001b[0m\u001b[0;34m\u001b[0m\u001b[0;34m\u001b[0m\u001b[0m\n\u001b[1;32m   5590\u001b[0m             \u001b[0;32mif\u001b[0m \u001b[0merrors\u001b[0m \u001b[0;34m!=\u001b[0m \u001b[0;34m\"ignore\"\u001b[0m\u001b[0;34m:\u001b[0m\u001b[0;34m\u001b[0m\u001b[0;34m\u001b[0m\u001b[0m\n\u001b[0;32m-> 5591\u001b[0;31m                 \u001b[0;32mraise\u001b[0m \u001b[0mKeyError\u001b[0m\u001b[0;34m(\u001b[0m\u001b[0;34mf\"{labels[mask]} not found in axis\"\u001b[0m\u001b[0;34m)\u001b[0m\u001b[0;34m\u001b[0m\u001b[0;34m\u001b[0m\u001b[0m\n\u001b[0m\u001b[1;32m   5592\u001b[0m             \u001b[0mindexer\u001b[0m \u001b[0;34m=\u001b[0m \u001b[0mindexer\u001b[0m\u001b[0;34m[\u001b[0m\u001b[0;34m~\u001b[0m\u001b[0mmask\u001b[0m\u001b[0;34m]\u001b[0m\u001b[0;34m\u001b[0m\u001b[0;34m\u001b[0m\u001b[0m\n\u001b[1;32m   5593\u001b[0m         \u001b[0;32mreturn\u001b[0m \u001b[0mself\u001b[0m\u001b[0;34m.\u001b[0m\u001b[0mdelete\u001b[0m\u001b[0;34m(\u001b[0m\u001b[0mindexer\u001b[0m\u001b[0;34m)\u001b[0m\u001b[0;34m\u001b[0m\u001b[0;34m\u001b[0m\u001b[0m\n",
      "\u001b[0;31mKeyError\u001b[0m: \"[('state', 'county_name', 'unemployment_rate_2010')] not found in axis\""
     ]
    }
   ],
   "source": [
    "X = df.drop('state', 'county_name', 'unemployment_rate_2010')\n",
    "y = df[['unemployment_rate_2010']]"
   ]
  },
  {
   "cell_type": "code",
   "execution_count": null,
   "id": "f83e57f0",
   "metadata": {},
   "outputs": [],
   "source": []
  },
  {
   "cell_type": "code",
   "execution_count": null,
   "id": "573e15b1",
   "metadata": {},
   "outputs": [],
   "source": []
  }
 ],
 "metadata": {
  "kernelspec": {
   "display_name": "Python 3",
   "language": "python",
   "name": "python3"
  },
  "language_info": {
   "codemirror_mode": {
    "name": "ipython",
    "version": 3
   },
   "file_extension": ".py",
   "mimetype": "text/x-python",
   "name": "python",
   "nbconvert_exporter": "python",
   "pygments_lexer": "ipython3",
   "version": "3.8.8"
  }
 },
 "nbformat": 4,
 "nbformat_minor": 5
}
