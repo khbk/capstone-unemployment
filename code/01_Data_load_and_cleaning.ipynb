{
 "cells": [
  {
   "cell_type": "code",
   "execution_count": 1,
   "id": "99b7e3de",
   "metadata": {},
   "outputs": [
    {
     "ename": "ModuleNotFoundError",
     "evalue": "No module named 'pandasql'",
     "output_type": "error",
     "traceback": [
      "\u001b[0;31m---------------------------------------------------------------------------\u001b[0m",
      "\u001b[0;31mModuleNotFoundError\u001b[0m                       Traceback (most recent call last)",
      "\u001b[0;32m<ipython-input-1-e70cdaf33abc>\u001b[0m in \u001b[0;36m<module>\u001b[0;34m\u001b[0m\n\u001b[1;32m      1\u001b[0m \u001b[0;32mimport\u001b[0m \u001b[0mpandas\u001b[0m \u001b[0;32mas\u001b[0m \u001b[0mpd\u001b[0m\u001b[0;34m\u001b[0m\u001b[0;34m\u001b[0m\u001b[0m\n\u001b[1;32m      2\u001b[0m \u001b[0;32mimport\u001b[0m \u001b[0mnumpy\u001b[0m \u001b[0;32mas\u001b[0m \u001b[0mnp\u001b[0m\u001b[0;34m\u001b[0m\u001b[0;34m\u001b[0m\u001b[0m\n\u001b[0;32m----> 3\u001b[0;31m \u001b[0;32mfrom\u001b[0m \u001b[0mpandasql\u001b[0m \u001b[0;32mimport\u001b[0m \u001b[0msqldf\u001b[0m \u001b[0;32mas\u001b[0m \u001b[0msql\u001b[0m\u001b[0;34m\u001b[0m\u001b[0;34m\u001b[0m\u001b[0m\n\u001b[0m",
      "\u001b[0;31mModuleNotFoundError\u001b[0m: No module named 'pandasql'"
     ]
    }
   ],
   "source": [
    "import pandas as pd\n",
    "import numpy as np\n",
    "from pandasql import sqldf as sql"
   ]
  },
  {
   "cell_type": "code",
   "execution_count": null,
   "id": "a7c98ea4",
   "metadata": {},
   "outputs": [],
   "source": [
    "df = pd.read_csv('../data/final.csv')\n",
    "df_cops = pd.read_csv('../data/2010_police_num_by_county.csv')\n",
    "df_people = pd.read_csv('../data/people.csv')"
   ]
  },
  {
   "cell_type": "code",
   "execution_count": null,
   "id": "60fea7e6",
   "metadata": {},
   "outputs": [],
   "source": [
    "pd.set_option('display.max_columns', 35)"
   ]
  },
  {
   "cell_type": "code",
   "execution_count": null,
   "id": "d96f046f",
   "metadata": {},
   "outputs": [],
   "source": [
    "df.shape"
   ]
  },
  {
   "cell_type": "code",
   "execution_count": null,
   "id": "d08052b1",
   "metadata": {},
   "outputs": [],
   "source": []
  },
  {
   "cell_type": "code",
   "execution_count": null,
   "id": "1c6cd6b9",
   "metadata": {},
   "outputs": [],
   "source": [
    "df_cops.shape"
   ]
  },
  {
   "cell_type": "code",
   "execution_count": null,
   "id": "3484c419",
   "metadata": {},
   "outputs": [],
   "source": [
    "df_people.shape"
   ]
  },
  {
   "cell_type": "code",
   "execution_count": null,
   "id": "6a41ed94",
   "metadata": {},
   "outputs": [],
   "source": [
    "df = pd.merge(df, df_cops, how='left', left_on='foreign_key', right_on='foreign_police')\n",
    "df.shape"
   ]
  },
  {
   "cell_type": "code",
   "execution_count": null,
   "id": "c37646ae",
   "metadata": {},
   "outputs": [],
   "source": [
    "df = df.dropna()"
   ]
  },
  {
   "cell_type": "code",
   "execution_count": null,
   "id": "36d14ea9",
   "metadata": {},
   "outputs": [],
   "source": [
    "df = pd.merge(df, df_people, how='left', left_on='fips', right_on='FIPS_people')\n",
    "df.shape"
   ]
  },
  {
   "cell_type": "code",
   "execution_count": null,
   "id": "86ed7010",
   "metadata": {},
   "outputs": [],
   "source": [
    "df = df.dropna()"
   ]
  },
  {
   "cell_type": "code",
   "execution_count": null,
   "id": "079359d9",
   "metadata": {},
   "outputs": [],
   "source": [
    "df.shape"
   ]
  },
  {
   "cell_type": "code",
   "execution_count": null,
   "id": "d3b67f9e",
   "metadata": {},
   "outputs": [],
   "source": [
    "df.head(2)"
   ]
  },
  {
   "cell_type": "code",
   "execution_count": null,
   "id": "90a084d1",
   "metadata": {},
   "outputs": [],
   "source": [
    "df = df.drop(columns=['fips', 'foreign_key', 'state_police', 'county_police', 'foreign_police', 'FIPS_people'])"
   ]
  },
  {
   "cell_type": "code",
   "execution_count": null,
   "id": "92d975b2",
   "metadata": {},
   "outputs": [],
   "source": [
    "j=[]\n",
    "for i in df['population_total_2010']:\n",
    "    j.append(i.replace(',', ''))\n",
    "df['population_total_2010'] = j\n",
    "df['population_total_2010']\n",
    "\n",
    "k=[]\n",
    "for m in df['number_police']:\n",
    "    k.append(m.replace(',', ''))\n",
    "df['number_police'] = k"
   ]
  },
  {
   "cell_type": "code",
   "execution_count": null,
   "id": "f343ef4d",
   "metadata": {},
   "outputs": [],
   "source": []
  },
  {
   "cell_type": "code",
   "execution_count": null,
   "id": "7435c6b2",
   "metadata": {},
   "outputs": [],
   "source": [
    "cols = ['avg_ann_pay_per_emp_large', 'avg_ann_pay_per_emp_sme', 'avg_ann_pay_per_emp_total']\n",
    "for i in cols:\n",
    "    df[i] = [txt if txt != '#DIV/0!' else np.nan for txt in df[i]]"
   ]
  },
  {
   "cell_type": "code",
   "execution_count": null,
   "id": "d43fc3bb",
   "metadata": {},
   "outputs": [],
   "source": [
    "col_names = list(df.columns)\n",
    "col_names = [i for i in col_names if not i in ['state', 'county_name']]\n",
    "\n",
    "for b in col_names:\n",
    "    try:\n",
    "        df[b] = df[b].astype(float)\n",
    "    except:\n",
    "        pass"
   ]
  },
  {
   "cell_type": "code",
   "execution_count": null,
   "id": "ae7704a0",
   "metadata": {},
   "outputs": [],
   "source": [
    "df = df.dropna(subset=['avg_ann_pay_per_emp_sme', 'avg_ann_pay_per_emp_total'])"
   ]
  },
  {
   "cell_type": "code",
   "execution_count": null,
   "id": "d4c5252a",
   "metadata": {},
   "outputs": [],
   "source": [
    "df.shape"
   ]
  },
  {
   "cell_type": "code",
   "execution_count": null,
   "id": "8356bc62",
   "metadata": {},
   "outputs": [],
   "source": [
    "df = df.fillna(0)"
   ]
  },
  {
   "cell_type": "code",
   "execution_count": null,
   "id": "4ccd42f4",
   "metadata": {},
   "outputs": [],
   "source": [
    "per_capita_police = df['number_police'] / df['population_total_2010']"
   ]
  },
  {
   "cell_type": "code",
   "execution_count": null,
   "id": "16ff7014",
   "metadata": {},
   "outputs": [],
   "source": [
    "police_1000 = per_capita_police * 1000"
   ]
  },
  {
   "cell_type": "code",
   "execution_count": null,
   "id": "eea370a5",
   "metadata": {},
   "outputs": [],
   "source": [
    "df = df.rename(columns={'number_police': 'police_per_1000'})"
   ]
  },
  {
   "cell_type": "code",
   "execution_count": null,
   "id": "a7cfd6b9",
   "metadata": {},
   "outputs": [],
   "source": [
    "df['police_per_1000'] = police_1000"
   ]
  },
  {
   "cell_type": "code",
   "execution_count": null,
   "id": "468aef4c",
   "metadata": {},
   "outputs": [],
   "source": [
    "df.to_csv('../data/final_work_data.csv', index=False)"
   ]
  },
  {
   "cell_type": "code",
   "execution_count": null,
   "id": "eda3eb9d",
   "metadata": {},
   "outputs": [],
   "source": []
  }
 ],
 "metadata": {
  "kernelspec": {
   "display_name": "Python 3",
   "language": "python",
   "name": "python3"
  },
  "language_info": {
   "codemirror_mode": {
    "name": "ipython",
    "version": 3
   },
   "file_extension": ".py",
   "mimetype": "text/x-python",
   "name": "python",
   "nbconvert_exporter": "python",
   "pygments_lexer": "ipython3",
   "version": "3.8.8"
  }
 },
 "nbformat": 4,
 "nbformat_minor": 5
}
